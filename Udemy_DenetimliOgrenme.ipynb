{
 "cells": [
  {
   "cell_type": "code",
   "execution_count": 1,
   "id": "d41f4354-8fcc-4773-97b8-feffccd1336d",
   "metadata": {
    "tags": []
   },
   "outputs": [],
   "source": [
    "import numpy as np\n",
    "import pandas as pd\n",
    "from sklearn.model_selection import train_test_split\n",
    "from sklearn.metrics import accuracy_score, precision_score, recall_score, f1_score\n",
    "from sklearn import datasets\n",
    "from sklearn import svm\n",
    "from sklearn.tree import DecisionTreeClassifier\n",
    "from sklearn.naive_bayes import GaussianNB"
   ]
  },
  {
   "cell_type": "code",
   "execution_count": 2,
   "id": "3fe1d33a-6509-4e05-8257-5e17cbde075c",
   "metadata": {},
   "outputs": [],
   "source": [
    "from os import X_OK\n",
    "#iris veriseti dahil edilmesi\n",
    "\n",
    "iris = datasets.load_iris()\n",
    "X = iris.data\n",
    "y = iris.target\n",
    "\n",
    "#verisetini X ve y bölme işlemi\n",
    "\n",
    "X_train, X_test, y_train, y_test = train_test_split(X,y,test_size=0.3,\n",
    "                                                    random_state=1)"
   ]
  },
  {
   "cell_type": "code",
   "execution_count": 3,
   "id": "f1ee9981-6b3c-4f41-966d-de657660f00e",
   "metadata": {},
   "outputs": [
    {
     "name": "stdout",
     "output_type": "stream",
     "text": [
      "Dogruluk degeri:  0.9555555555555556\n",
      "Precision degeri:  0.9555555555555556\n",
      "Recall degeri:  0.9555555555555556\n",
      "F1 degeri:  0.9555555555555556\n"
     ]
    }
   ],
   "source": [
    "dt = DecisionTreeClassifier(random_state=0)\n",
    "dt.fit(X_train, y_train)\n",
    "dt_pred = dt.predict(X_test)\n",
    "print(\"Dogruluk degeri: \", accuracy_score(y_test, dt_pred))\n",
    "print(\"Precision degeri: \", precision_score(y_test, dt_pred, average=\"weighted\"))\n",
    "print(\"Recall degeri: \", recall_score(y_test, dt_pred, average=\"weighted\"))\n",
    "print(\"F1 degeri: \", f1_score(y_test, dt_pred, average=\"weighted\"))"
   ]
  },
  {
   "cell_type": "code",
   "execution_count": 5,
   "id": "8b491fe5-91e0-460d-aa44-8cc960100e2f",
   "metadata": {
    "tags": []
   },
   "outputs": [
    {
     "name": "stdout",
     "output_type": "stream",
     "text": [
      "Dogruluk degeri:  1.0\n",
      "Precision degeri:  1.0\n",
      "Recall degeri:  1.0\n",
      "F1 degeri:  1.0\n"
     ]
    }
   ],
   "source": [
    "#smv modeli oluşturduk\n",
    "smv_clf = svm.SVC(kernel=\"linear\")\n",
    "#smv modeli eğitiyoruz\n",
    "smv_clf.fit(X_train, y_train)\n",
    "svm_clf_pred = smv_clf.predict(X_test)\n",
    "print(\"Dogruluk degeri: \", accuracy_score(y_test,svm_clf_pred))\n",
    "print(\"Precision degeri: \", precision_score(y_test,svm_clf_pred, average=\"weighted\"))\n",
    "print(\"Recall degeri: \", recall_score(y_test,svm_clf_pred, average=\"weighted\"))\n",
    "print(\"F1 degeri: \", f1_score(y_test,svm_clf_pred, average=\"weighted\"))"
   ]
  },
  {
   "cell_type": "code",
   "execution_count": null,
   "id": "87b6b478-debb-47ef-9548-5a20997d08a2",
   "metadata": {},
   "outputs": [],
   "source": []
  }
 ],
 "metadata": {
  "kernelspec": {
   "display_name": "Python 3 (ipykernel)",
   "language": "python",
   "name": "python3"
  },
  "language_info": {
   "codemirror_mode": {
    "name": "ipython",
    "version": 3
   },
   "file_extension": ".py",
   "mimetype": "text/x-python",
   "name": "python",
   "nbconvert_exporter": "python",
   "pygments_lexer": "ipython3",
   "version": "3.11.5"
  }
 },
 "nbformat": 4,
 "nbformat_minor": 5
}
