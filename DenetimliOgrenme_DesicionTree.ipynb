{
 "cells": [
  {
   "cell_type": "code",
   "execution_count": 1,
   "id": "5ba60cdc-b59b-4630-8453-829407f8dbf1",
   "metadata": {
    "tags": []
   },
   "outputs": [],
   "source": [
    "from sklearn.tree import DecisionTreeClassifier\n",
    "import pandas as pd"
   ]
  },
  {
   "cell_type": "code",
   "execution_count": 2,
   "id": "3843c11d-882f-49f3-ba42-2755fa5deb5c",
   "metadata": {
    "tags": []
   },
   "outputs": [],
   "source": [
    "veri = {\n",
    "    \"Hava Durumu\": [\"Güneşli\", \"Bulutlu\", \"Yagmurlu\", \"Yagmurlu\",\n",
    "                    \"Bulutlu\", \"Güneşli\", \"Bulutlu\", \"Yagmurlu\",\n",
    "                    \"Güneşli\", \"Bulutlu\", \"Yagmurlu\",\"Güneşli\"],\n",
    "    \"Sıcaklık\": [\"Sıcak\", \"Ilık\", \"Soguk\", \"Ilık\",\n",
    "                \"Sıcak\", \"Sıcak\", \"Soguk\", \"Ilık\",\n",
    "                \"Ilık\", \"Soguk\", \"Sıcak\", \"Sıcak\"],\n",
    "    \"Rüzgar\": [\"Rüzgarli\", \"Rüzgarli\", \"Rüzgarsiz\",\"Rüzgarsiz\",\n",
    "              \"Rüzgarli\", \"Rüzgarsiz\",\"Rüzgarsiz\",\"Rüzgarli\",\n",
    "              \"Rüzgarsiz\",\"Rüzgarsiz\",\"Rüzgarli\", \"Rüzgarli\"],\n",
    "    \"Karar\": [\"Evet\", \"Evet\", \"Hayır\", \"Hayır\",\n",
    "             \"Hayır\", \"Evet\", \"Evet\", \"Hayır\",\n",
    "             \"Evet\", \"Evet\", \"Hayır\", \"Evet\"]\n",
    "}\n",
    "\n",
    "df = pd.DataFrame(veri)"
   ]
  },
  {
   "cell_type": "code",
   "execution_count": 3,
   "id": "d85c9c3b-c4a8-4905-8cf7-86dc28c10913",
   "metadata": {
    "tags": []
   },
   "outputs": [],
   "source": [
    "#kategorik verileri sayisal veriye donusturme\n",
    "df[\"Hava Durumu\"] = df[\"Hava Durumu\"].map({\"Güneşli\":0, \"Bulutlu\":1, \"Yagmurlu\":2})\n",
    "df[\"Sıcaklık\"] = df[\"Sıcaklık\"].map({\"Sıcak\":0, \"Ilık\":1, \"Soguk\":2})\n",
    "df[\"Rüzgar\"] = df[\"Rüzgar\"].map({\"Rüzgarli\":0, \"Rüzgarsiz\":1})\n",
    "df[\"Karar\"] = df[\"Karar\"].map({\"Evet\":0, \"Hayır\":1})"
   ]
  },
  {
   "cell_type": "code",
   "execution_count": 4,
   "id": "96edba04-c43b-41b5-b810-65938d2d4719",
   "metadata": {
    "tags": []
   },
   "outputs": [
    {
     "data": {
      "text/html": [
       "<style>#sk-container-id-1 {color: black;}#sk-container-id-1 pre{padding: 0;}#sk-container-id-1 div.sk-toggleable {background-color: white;}#sk-container-id-1 label.sk-toggleable__label {cursor: pointer;display: block;width: 100%;margin-bottom: 0;padding: 0.3em;box-sizing: border-box;text-align: center;}#sk-container-id-1 label.sk-toggleable__label-arrow:before {content: \"▸\";float: left;margin-right: 0.25em;color: #696969;}#sk-container-id-1 label.sk-toggleable__label-arrow:hover:before {color: black;}#sk-container-id-1 div.sk-estimator:hover label.sk-toggleable__label-arrow:before {color: black;}#sk-container-id-1 div.sk-toggleable__content {max-height: 0;max-width: 0;overflow: hidden;text-align: left;background-color: #f0f8ff;}#sk-container-id-1 div.sk-toggleable__content pre {margin: 0.2em;color: black;border-radius: 0.25em;background-color: #f0f8ff;}#sk-container-id-1 input.sk-toggleable__control:checked~div.sk-toggleable__content {max-height: 200px;max-width: 100%;overflow: auto;}#sk-container-id-1 input.sk-toggleable__control:checked~label.sk-toggleable__label-arrow:before {content: \"▾\";}#sk-container-id-1 div.sk-estimator input.sk-toggleable__control:checked~label.sk-toggleable__label {background-color: #d4ebff;}#sk-container-id-1 div.sk-label input.sk-toggleable__control:checked~label.sk-toggleable__label {background-color: #d4ebff;}#sk-container-id-1 input.sk-hidden--visually {border: 0;clip: rect(1px 1px 1px 1px);clip: rect(1px, 1px, 1px, 1px);height: 1px;margin: -1px;overflow: hidden;padding: 0;position: absolute;width: 1px;}#sk-container-id-1 div.sk-estimator {font-family: monospace;background-color: #f0f8ff;border: 1px dotted black;border-radius: 0.25em;box-sizing: border-box;margin-bottom: 0.5em;}#sk-container-id-1 div.sk-estimator:hover {background-color: #d4ebff;}#sk-container-id-1 div.sk-parallel-item::after {content: \"\";width: 100%;border-bottom: 1px solid gray;flex-grow: 1;}#sk-container-id-1 div.sk-label:hover label.sk-toggleable__label {background-color: #d4ebff;}#sk-container-id-1 div.sk-serial::before {content: \"\";position: absolute;border-left: 1px solid gray;box-sizing: border-box;top: 0;bottom: 0;left: 50%;z-index: 0;}#sk-container-id-1 div.sk-serial {display: flex;flex-direction: column;align-items: center;background-color: white;padding-right: 0.2em;padding-left: 0.2em;position: relative;}#sk-container-id-1 div.sk-item {position: relative;z-index: 1;}#sk-container-id-1 div.sk-parallel {display: flex;align-items: stretch;justify-content: center;background-color: white;position: relative;}#sk-container-id-1 div.sk-item::before, #sk-container-id-1 div.sk-parallel-item::before {content: \"\";position: absolute;border-left: 1px solid gray;box-sizing: border-box;top: 0;bottom: 0;left: 50%;z-index: -1;}#sk-container-id-1 div.sk-parallel-item {display: flex;flex-direction: column;z-index: 1;position: relative;background-color: white;}#sk-container-id-1 div.sk-parallel-item:first-child::after {align-self: flex-end;width: 50%;}#sk-container-id-1 div.sk-parallel-item:last-child::after {align-self: flex-start;width: 50%;}#sk-container-id-1 div.sk-parallel-item:only-child::after {width: 0;}#sk-container-id-1 div.sk-dashed-wrapped {border: 1px dashed gray;margin: 0 0.4em 0.5em 0.4em;box-sizing: border-box;padding-bottom: 0.4em;background-color: white;}#sk-container-id-1 div.sk-label label {font-family: monospace;font-weight: bold;display: inline-block;line-height: 1.2em;}#sk-container-id-1 div.sk-label-container {text-align: center;}#sk-container-id-1 div.sk-container {/* jupyter's `normalize.less` sets `[hidden] { display: none; }` but bootstrap.min.css set `[hidden] { display: none !important; }` so we also need the `!important` here to be able to override the default hidden behavior on the sphinx rendered scikit-learn.org. See: https://github.com/scikit-learn/scikit-learn/issues/21755 */display: inline-block !important;position: relative;}#sk-container-id-1 div.sk-text-repr-fallback {display: none;}</style><div id=\"sk-container-id-1\" class=\"sk-top-container\"><div class=\"sk-text-repr-fallback\"><pre>DecisionTreeClassifier()</pre><b>In a Jupyter environment, please rerun this cell to show the HTML representation or trust the notebook. <br />On GitHub, the HTML representation is unable to render, please try loading this page with nbviewer.org.</b></div><div class=\"sk-container\" hidden><div class=\"sk-item\"><div class=\"sk-estimator sk-toggleable\"><input class=\"sk-toggleable__control sk-hidden--visually\" id=\"sk-estimator-id-1\" type=\"checkbox\" checked><label for=\"sk-estimator-id-1\" class=\"sk-toggleable__label sk-toggleable__label-arrow\">DecisionTreeClassifier</label><div class=\"sk-toggleable__content\"><pre>DecisionTreeClassifier()</pre></div></div></div></div></div>"
      ],
      "text/plain": [
       "DecisionTreeClassifier()"
      ]
     },
     "execution_count": 4,
     "metadata": {},
     "output_type": "execute_result"
    }
   ],
   "source": [
    "#ozellikler ve hedef degiskeni ayirma\n",
    "X = df.drop(\"Karar\", axis=1)\n",
    "y = df[\"Karar\"]\n",
    "\n",
    "#model olusturma\n",
    "dt_model = DecisionTreeClassifier()\n",
    "\n",
    "#model egitim\n",
    "dt_model.fit(X, y)"
   ]
  },
  {
   "cell_type": "code",
   "execution_count": 8,
   "id": "c1cb3cbe-f976-4e17-9cdd-1f6b12ba01f0",
   "metadata": {
    "tags": []
   },
   "outputs": [
    {
     "name": "stdout",
     "output_type": "stream",
     "text": [
      "Restorana git: E\n"
     ]
    }
   ],
   "source": [
    "#yeni veri ornegi\n",
    "yeni_veri = pd.DataFrame({\"Hava Durumu\":[\"Bulutlu\"], \"Sıcaklık\":[\"Ilık\"],\n",
    "                                                      \"Rüzgar\":[\"Rüzgarli\"]})\n",
    "yeni_veri[\"Hava Durumu\"] = yeni_veri[\"Hava Durumu\"].map({\"Güneşli\":0, \"Bulutlu\":1,\n",
    "                                                         \"Yagmurlu\":2})\n",
    "yeni_veri[\"Sıcaklık\"] = yeni_veri[\"Sıcaklık\"].map({\"Sıcak\":0, \"Ilık\":1, \"Soguk\":2})\n",
    "yeni_veri[\"Rüzgar\"] = yeni_veri[\"Rüzgar\"].map({\"Rüzgarli\":0, \"Rüzgarsiz\":1})\n",
    "\n",
    "tahmin = dt_model.predict(yeni_veri)\n",
    "\n",
    "if tahmin[0] == 0:\n",
    "    print(\"Restorana git: E\")\n",
    "elif tahmin[0] == 1:\n",
    "    print(\"Restorana gitme: H\")"
   ]
  },
  {
   "cell_type": "code",
   "execution_count": null,
   "id": "e3058042-fc52-4d55-84b4-a67b261a77d8",
   "metadata": {},
   "outputs": [],
   "source": [
    "#restorant tavsiye sistemi\n"
   ]
  }
 ],
 "metadata": {
  "kernelspec": {
   "display_name": "Python 3 (ipykernel)",
   "language": "python",
   "name": "python3"
  },
  "language_info": {
   "codemirror_mode": {
    "name": "ipython",
    "version": 3
   },
   "file_extension": ".py",
   "mimetype": "text/x-python",
   "name": "python",
   "nbconvert_exporter": "python",
   "pygments_lexer": "ipython3",
   "version": "3.11.5"
  }
 },
 "nbformat": 4,
 "nbformat_minor": 5
}
