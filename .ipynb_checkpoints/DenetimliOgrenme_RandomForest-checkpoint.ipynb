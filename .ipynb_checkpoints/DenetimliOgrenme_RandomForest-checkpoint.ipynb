{
 "cells": [
  {
   "cell_type": "code",
   "execution_count": 2,
   "id": "d36aeb23-a6aa-451f-8f7d-3437124e7c61",
   "metadata": {
    "tags": []
   },
   "outputs": [],
   "source": [
    "import pandas as pd\n",
    "import numpy as np\n",
    "\n",
    "import matplotlib.pyplot as plt\n",
    "from sklearn.ensemble import RandomForestClassifier\n",
    "from sklearn import tree"
   ]
  },
  {
   "cell_type": "code",
   "execution_count": null,
   "id": "395036af-8d58-4077-8378-9807d2652507",
   "metadata": {},
   "outputs": [],
   "source": [
    "#rastgele sayi ureticini baslatma\n",
    "np.random.seed(0) \n",
    "age = np.random.randint(20,80,30)\n",
    "blood_pressure = np.random.randint(80,180,30)\n",
    "cholesterol = np.random.randint(120,350,30)\n",
    "disease = np.random.randint(0,2,30) #0 saglikli, 1 hasta\n"
   ]
  }
 ],
 "metadata": {
  "kernelspec": {
   "display_name": "Python 3 (ipykernel)",
   "language": "python",
   "name": "python3"
  },
  "language_info": {
   "codemirror_mode": {
    "name": "ipython",
    "version": 3
   },
   "file_extension": ".py",
   "mimetype": "text/x-python",
   "name": "python",
   "nbconvert_exporter": "python",
   "pygments_lexer": "ipython3",
   "version": "3.11.5"
  }
 },
 "nbformat": 4,
 "nbformat_minor": 5
}
